{
  "nbformat": 4,
  "nbformat_minor": 0,
  "metadata": {
    "colab": {
      "provenance": [],
      "authorship_tag": "ABX9TyNwREJk0wc8aQ3vtJz9yJo5",
      "include_colab_link": true
    },
    "kernelspec": {
      "name": "python3",
      "display_name": "Python 3"
    },
    "language_info": {
      "name": "python"
    }
  },
  "cells": [
    {
      "cell_type": "markdown",
      "metadata": {
        "id": "view-in-github",
        "colab_type": "text"
      },
      "source": [
        "<a href=\"https://colab.research.google.com/github/Slamm-alt/DataCleansing-Online-Shopping/blob/main/2318076DataCleansing.ipynb\" target=\"_parent\"><img src=\"https://colab.research.google.com/assets/colab-badge.svg\" alt=\"Open In Colab\"/></a>"
      ]
    },
    {
      "cell_type": "markdown",
      "source": [
        "# 1. Import Libraries"
      ],
      "metadata": {
        "id": "k-lK8vmBJTkb"
      }
    },
    {
      "cell_type": "code",
      "execution_count": null,
      "metadata": {
        "id": "C5oDsNchJOYz"
      },
      "outputs": [],
      "source": [
        "import pandas as pd\n",
        "import matplotlib.pyplot as plt\n",
        "import seaborn as sns"
      ]
    },
    {
      "cell_type": "code",
      "source": [
        "from google.colab import drive\n",
        "drive.mount('/content/drive')"
      ],
      "metadata": {
        "colab": {
          "base_uri": "https://localhost:8080/"
        },
        "id": "BwIDznsvJ5OV",
        "outputId": "30f6b0b5-9a6f-4135-d597-f26a0b70189a"
      },
      "execution_count": null,
      "outputs": [
        {
          "output_type": "stream",
          "name": "stdout",
          "text": [
            "Mounted at /content/drive\n"
          ]
        }
      ]
    },
    {
      "cell_type": "markdown",
      "source": [
        "# 2. Baca Dataset pelanggan yang kotor"
      ],
      "metadata": {
        "id": "TfkKLXb39H2F"
      }
    },
    {
      "cell_type": "code",
      "source": [
        "# Load dataset\n",
        "file_path = \"/content/drive/MyDrive/Colab Notebooks/data_products_id_small.csv\"# ganti sesuai path di Colab\n",
        "df_dirty = pd.read_csv(file_path)"
      ],
      "metadata": {
        "id": "y8NtnvGIKQPs"
      },
      "execution_count": null,
      "outputs": []
    },
    {
      "cell_type": "code",
      "metadata": {
        "colab": {
          "base_uri": "https://localhost:8080/"
        },
        "id": "f172c3f0",
        "outputId": "ac851354-bb81-47c9-a2e4-ae5f5e3ce722"
      },
      "source": [
        "# Use the already loaded dataframe\n",
        "df = df_dirty\n",
        "\n",
        "# Tampilkan semua baris data\n",
        "print(\"=== Dataset Asli ===\")\n",
        "print(df.head())\n",
        "\n",
        "print(\"\\nInfo Dataset:\")\n",
        "print(df.info())\n",
        "\n",
        "print(\"\\nJumlah Data & Kolom:\", df.shape)"
      ],
      "execution_count": null,
      "outputs": [
        {
          "output_type": "stream",
          "name": "stdout",
          "text": [
            "=== Dataset Asli ===\n",
            "    product_id                             image  \\\n",
            "0  12523520280  e6205d4fcb8a485235778ad210ac4d90   \n",
            "1  17941082335  8563c9fc31b880ed105f91b8d43e6d88   \n",
            "2  23517487660  id-11134207-7qul7-leyb85rn449s74   \n",
            "3   7978948479  d6b77df3df58d6a13b3d78eeb303cbb5   \n",
            "4   4653307963  f888e78a3845120009602a0b23e65ce0   \n",
            "\n",
            "                                                name             shop_name  \\\n",
            "0  PS3 Super Slim 1TB Full Game + 2 Stik getar + ...     spirit elektronik   \n",
            "1  GAMEBOY PVP DUAL ANALOG FULLSET BISA MAIN DI T...  Gaming Console Store   \n",
            "2                           Pulsa Min A10 K1T Remote           GAMOLBERKAH   \n",
            "3                 DUS PSP-2004/ DUS PSP STREET E1004              GAMES168   \n",
            "4  playstation 2 full game|| hardis external full...           Milkha_shop   \n",
            "\n",
            "      shopid main_category sub_category  \n",
            "0  379815570    Elektronik  Konsol Game  \n",
            "1  268909000    Elektronik  Konsol Game  \n",
            "2  102394348    Elektronik  Konsol Game  \n",
            "3   28318233    Elektronik  Konsol Game  \n",
            "4  293187724    Elektronik  Konsol Game  \n",
            "\n",
            "Info Dataset:\n",
            "<class 'pandas.core.frame.DataFrame'>\n",
            "RangeIndex: 162205 entries, 0 to 162204\n",
            "Data columns (total 7 columns):\n",
            " #   Column         Non-Null Count   Dtype \n",
            "---  ------         --------------   ----- \n",
            " 0   product_id     162205 non-null  int64 \n",
            " 1   image          162205 non-null  object\n",
            " 2   name           162205 non-null  object\n",
            " 3   shop_name      162204 non-null  object\n",
            " 4   shopid         162205 non-null  int64 \n",
            " 5   main_category  162205 non-null  object\n",
            " 6   sub_category   162205 non-null  object\n",
            "dtypes: int64(2), object(5)\n",
            "memory usage: 8.7+ MB\n",
            "None\n",
            "\n",
            "Jumlah Data & Kolom: (162205, 7)\n"
          ]
        }
      ]
    },
    {
      "cell_type": "markdown",
      "source": [
        "# 3. Menampilkan struktur variable data pelanggan"
      ],
      "metadata": {
        "id": "CPrIIDiT9ZI3"
      }
    },
    {
      "cell_type": "code",
      "source": [
        "print(\"\\n=== Cek Missing Values ===\")\n",
        "print(df.isnull().sum())"
      ],
      "metadata": {
        "colab": {
          "base_uri": "https://localhost:8080/"
        },
        "id": "5WPX8NgA9bo0",
        "outputId": "f6d18f95-1fde-4417-d5c7-6d45724cc8e5"
      },
      "execution_count": null,
      "outputs": [
        {
          "output_type": "stream",
          "name": "stdout",
          "text": [
            "\n",
            "=== Cek Missing Values ===\n",
            "product_id       0\n",
            "image            0\n",
            "name             0\n",
            "shop_name        1\n",
            "shopid           0\n",
            "main_category    0\n",
            "sub_category     0\n",
            "dtype: int64\n"
          ]
        }
      ]
    },
    {
      "cell_type": "markdown",
      "source": [
        "# 4. Perbaikan Nilai yang Hilang"
      ],
      "metadata": {
        "id": "GeNjLBW-Ay1f"
      }
    },
    {
      "cell_type": "code",
      "source": [
        "# Kolom 'shop_name' → isi dengan 'Unknown'\n",
        "df_dirty['shop_name'].fillna(\"Unknown\", inplace=True)"
      ],
      "metadata": {
        "id": "Csg6NlCvA1Wf"
      },
      "execution_count": null,
      "outputs": []
    },
    {
      "cell_type": "markdown",
      "source": [
        "# 5. Cek Ulang Perbaikan Mising Velue"
      ],
      "metadata": {
        "id": "vflmKyltBpRT"
      }
    },
    {
      "cell_type": "code",
      "source": [
        "print(\"\\n=== Missing Values Setelah Perbaikan ===\")\n",
        "print(df_dirty.isnull().sum())"
      ],
      "metadata": {
        "colab": {
          "base_uri": "https://localhost:8080/"
        },
        "id": "qlyLLD-qBr3J",
        "outputId": "eab9d9a3-a59f-4b06-e883-156b5d1c67a3"
      },
      "execution_count": null,
      "outputs": [
        {
          "output_type": "stream",
          "name": "stdout",
          "text": [
            "\n",
            "=== Missing Values Setelah Perbaikan ===\n",
            "product_id       0\n",
            "image            0\n",
            "name             0\n",
            "shop_name        0\n",
            "shopid           0\n",
            "main_category    0\n",
            "sub_category     0\n",
            "dtype: int64\n"
          ]
        }
      ]
    },
    {
      "cell_type": "markdown",
      "source": [
        "# 6. Cek & Hapus Duplikasi"
      ],
      "metadata": {
        "id": "RdAjJUuzB9aq"
      }
    },
    {
      "cell_type": "code",
      "source": [
        "print(\"\\n=== Cek Data Duplikat ===\")\n",
        "dup_count = df_dirty.duplicated().sum()\n",
        "print(f\"Jumlah baris duplikat: {dup_count}\")\n",
        "\n",
        "before = df_dirty.shape[0]\n",
        "df_clean = df_dirty.drop_duplicates()\n",
        "after = df_clean.shape[0]"
      ],
      "metadata": {
        "colab": {
          "base_uri": "https://localhost:8080/"
        },
        "id": "VELTz2ygB_xo",
        "outputId": "b7d8bf07-d8da-4ef0-ec6e-0a3c6c7ab26a"
      },
      "execution_count": null,
      "outputs": [
        {
          "output_type": "stream",
          "name": "stdout",
          "text": [
            "\n",
            "=== Cek Data Duplikat ===\n",
            "Jumlah baris duplikat: 0\n"
          ]
        }
      ]
    },
    {
      "cell_type": "code",
      "source": [
        "print(f\"Jumlah baris sebelum cleaning: {before}\")\n",
        "print(f\"Jumlah baris setelah cleaning: {after}\")\n",
        "print(f\"Jumlah baris terhapus (duplikat): {before - after}\")"
      ],
      "metadata": {
        "colab": {
          "base_uri": "https://localhost:8080/"
        },
        "id": "QyRc0kbBCJRP",
        "outputId": "a1a29d10-1b87-4f65-bd1f-2c49f415dc25"
      },
      "execution_count": null,
      "outputs": [
        {
          "output_type": "stream",
          "name": "stdout",
          "text": [
            "Jumlah baris sebelum cleaning: 162205\n",
            "Jumlah baris setelah cleaning: 162205\n",
            "Jumlah baris terhapus (duplikat): 0\n"
          ]
        }
      ]
    },
    {
      "cell_type": "markdown",
      "source": [
        "# 7. DATA ENRICHMENT"
      ],
      "metadata": {
        "id": "XCsDvgIOC_t-"
      }
    },
    {
      "cell_type": "markdown",
      "source": [
        "- Mengisikan Nomor/Angka Penjualan yang mempunyai nilai 0 dengan    menggunakan mean"
      ],
      "metadata": {
        "id": "z1Qjbv2nDDiL"
      }
    },
    {
      "cell_type": "code",
      "source": [
        "# Pastikan semua kolom numerik bertipe float\n",
        "for col in df.select_dtypes(include=[\"number\"]).columns:\n",
        "    df[col] = df[col].astype(float)\n",
        "\n",
        "changed_rows = []\n",
        "\n",
        "# Loop tiap kolom numerik\n",
        "for col in df.select_dtypes(include=[\"number\"]).columns:\n",
        "    if (df[col] == 0).any():  # hanya kalau ada nilai 0\n",
        "        mean_val = df.loc[df[col] > 0, col].mean()\n",
        "\n",
        "        # Simpan data sebelum diganti\n",
        "        before = df.loc[df[col] == 0, [col]].copy()\n",
        "        before = before.rename(columns={col: \"Sebelum\"})\n",
        "        before[\"Kolom\"] = col\n",
        "        before[\"Sesudah\"] = mean_val\n",
        "\n",
        "        # Update dataframe (ganti 0 dengan mean)\n",
        "        df.loc[df[col] == 0, col] = mean_val\n",
        "\n",
        "        # Tambahkan ke list perubahan\n",
        "        changed_rows.append(before)\n",
        "\n",
        "# Gabungkan semua perubahan\n",
        "if changed_rows:\n",
        "    result = pd.concat(changed_rows, axis=0).reset_index(drop=True)\n",
        "    print(\"=== Data yang berubah (sebelum → sesudah) ===\")\n",
        "    print(result.head(10))  # tampilkan 10 baris pertama\n",
        "else:\n",
        "    print(\"Tidak ada nilai 0 yang ditemukan.\")"
      ],
      "metadata": {
        "colab": {
          "base_uri": "https://localhost:8080/"
        },
        "id": "Eb0JWssODfM7",
        "outputId": "f7d14a2b-4d06-4e24-a6e0-8634b0dcd6be"
      },
      "execution_count": null,
      "outputs": [
        {
          "output_type": "stream",
          "name": "stdout",
          "text": [
            "Tidak ada nilai 0 yang ditemukan.\n"
          ]
        }
      ]
    },
    {
      "cell_type": "markdown",
      "source": [
        "# 8. Cek Kolom Tidak Relevan"
      ],
      "metadata": {
        "id": "OEE9U83REHdx"
      }
    },
    {
      "cell_type": "code",
      "source": [
        "# 1. Cek jumlah nilai unik per kolom\n",
        "print(\"=== Jumlah nilai unik per kolom ===\")\n",
        "print(df.nunique())"
      ],
      "metadata": {
        "colab": {
          "base_uri": "https://localhost:8080/"
        },
        "id": "YWQu5QYTEBPU",
        "outputId": "e40019bf-cbf7-4128-beb8-a2e83f25710a"
      },
      "execution_count": null,
      "outputs": [
        {
          "output_type": "stream",
          "name": "stdout",
          "text": [
            "=== Jumlah nilai unik per kolom ===\n",
            "product_id       162205\n",
            "image            160746\n",
            "name             159442\n",
            "shop_name         49866\n",
            "shopid            49865\n",
            "main_category        24\n",
            "sub_category        325\n",
            "dtype: int64\n"
          ]
        }
      ]
    },
    {
      "cell_type": "code",
      "source": [
        "# Identifikasi kolom kandidat tidak relevan\n",
        "irrelevant_cols = []\n",
        "\n",
        "# Kolom dengan 1 nilai unik\n",
        "single_value_cols = df.nunique()[df.nunique() == 1].index.tolist()\n",
        "irrelevant_cols.extend(single_value_cols)"
      ],
      "metadata": {
        "id": "I76VMS27EDsV"
      },
      "execution_count": null,
      "outputs": []
    },
    {
      "cell_type": "code",
      "source": [
        "# Hapus kolom tidak relevan\n",
        "df = df.drop(columns=set(irrelevant_cols), errors='ignore')\n",
        "\n",
        "print(\"\\n=== Setelah perbaikan ===\")\n",
        "print(\"Kolom dataset sekarang:\", df.columns.tolist())"
      ],
      "metadata": {
        "colab": {
          "base_uri": "https://localhost:8080/"
        },
        "id": "qawT4jpYEF90",
        "outputId": "a3d7e0d7-7cb0-47f8-d696-ad2323299cf7"
      },
      "execution_count": null,
      "outputs": [
        {
          "output_type": "stream",
          "name": "stdout",
          "text": [
            "\n",
            "=== Setelah perbaikan ===\n",
            "Kolom dataset sekarang: ['product_id', 'image', 'name', 'shop_name', 'shopid', 'main_category', 'sub_category']\n"
          ]
        }
      ]
    },
    {
      "cell_type": "markdown",
      "source": [
        "# 9. Menampilkan Beberapa Data Yang Sudah Di Cleansing"
      ],
      "metadata": {
        "id": "-eZR2t3EEdMH"
      }
    },
    {
      "cell_type": "markdown",
      "source": [
        "*  Menampilkan dataset akhir setelah proses cleansing:\n",
        "\n",
        "* Tidak ada missing value penting (semua sudah diisi dengan median, modus, atau kategori default).\n",
        "\n",
        "* Tidak ada duplikasi data.\n",
        "\n",
        "* Tidak ada kolom tidak relevan yang hanya memiliki 1 nilai unik."
      ],
      "metadata": {
        "id": "DqlbxVDoEiwt"
      }
    },
    {
      "cell_type": "code",
      "source": [
        "print(\"\\nContoh data bersih:\")\n",
        "display(df.head(10))"
      ],
      "metadata": {
        "colab": {
          "base_uri": "https://localhost:8080/",
          "height": 537
        },
        "id": "_mw94Vd2EY_L",
        "outputId": "0e713e6f-629c-41b9-f966-596b0ac2c001"
      },
      "execution_count": null,
      "outputs": [
        {
          "output_type": "stream",
          "name": "stdout",
          "text": [
            "\n",
            "Contoh data bersih:\n"
          ]
        },
        {
          "output_type": "display_data",
          "data": {
            "text/plain": [
              "     product_id                             image  \\\n",
              "0  1.252352e+10  e6205d4fcb8a485235778ad210ac4d90   \n",
              "1  1.794108e+10  8563c9fc31b880ed105f91b8d43e6d88   \n",
              "2  2.351749e+10  id-11134207-7qul7-leyb85rn449s74   \n",
              "3  7.978948e+09  d6b77df3df58d6a13b3d78eeb303cbb5   \n",
              "4  4.653308e+09  f888e78a3845120009602a0b23e65ce0   \n",
              "5  1.412098e+10  58259a47b7f64a0456ab3012afe80c85   \n",
              "6  8.680375e+08  87e619fd39c66ca943c3c6dfddc96f97   \n",
              "7  4.557886e+09  6d7a7b2971e19c32e85ab31cc8d1863e   \n",
              "8  3.432470e+09  id-11134201-23030-uwr66k628mov49   \n",
              "9  3.504742e+09  id-11134207-7qul6-lg63etj8ss5327   \n",
              "\n",
              "                                                name             shop_name  \\\n",
              "0  PS3 Super Slim 1TB Full Game + 2 Stik getar + ...     spirit elektronik   \n",
              "1  GAMEBOY PVP DUAL ANALOG FULLSET BISA MAIN DI T...  Gaming Console Store   \n",
              "2                           Pulsa Min A10 K1T Remote           GAMOLBERKAH   \n",
              "3                 DUS PSP-2004/ DUS PSP STREET E1004              GAMES168   \n",
              "4  playstation 2 full game|| hardis external full...           Milkha_shop   \n",
              "5  kartu karakter animal crossing get Nintendo sw...       Klontong Gaming   \n",
              "6  Garskin STICKER Premium PSP 3000 2000 1000 Fre...    Garskin Parrotskin   \n",
              "7  PVP 3 SLIM GAME NITENDO // MAINAN ANAK // KADO...             Terang ku   \n",
              "8  PS3 Slim Sony Void CFW 500GB | 1TB | Garansi 1...         Matahari Game   \n",
              "9                Nintendo DS Lite FREE Games Grade B           kazokugames   \n",
              "\n",
              "        shopid main_category sub_category  \n",
              "0  379815570.0    Elektronik  Konsol Game  \n",
              "1  268909000.0    Elektronik  Konsol Game  \n",
              "2  102394348.0    Elektronik  Konsol Game  \n",
              "3   28318233.0    Elektronik  Konsol Game  \n",
              "4  293187724.0    Elektronik  Konsol Game  \n",
              "5  134963878.0    Elektronik  Konsol Game  \n",
              "6   53400287.0    Elektronik  Konsol Game  \n",
              "7    9026886.0    Elektronik  Konsol Game  \n",
              "8  192917696.0    Elektronik  Konsol Game  \n",
              "9   10548912.0    Elektronik  Konsol Game  "
            ],
            "text/html": [
              "\n",
              "  <div id=\"df-fe53b879-8922-4862-8230-488d1d315bb1\" class=\"colab-df-container\">\n",
              "    <div>\n",
              "<style scoped>\n",
              "    .dataframe tbody tr th:only-of-type {\n",
              "        vertical-align: middle;\n",
              "    }\n",
              "\n",
              "    .dataframe tbody tr th {\n",
              "        vertical-align: top;\n",
              "    }\n",
              "\n",
              "    .dataframe thead th {\n",
              "        text-align: right;\n",
              "    }\n",
              "</style>\n",
              "<table border=\"1\" class=\"dataframe\">\n",
              "  <thead>\n",
              "    <tr style=\"text-align: right;\">\n",
              "      <th></th>\n",
              "      <th>product_id</th>\n",
              "      <th>image</th>\n",
              "      <th>name</th>\n",
              "      <th>shop_name</th>\n",
              "      <th>shopid</th>\n",
              "      <th>main_category</th>\n",
              "      <th>sub_category</th>\n",
              "    </tr>\n",
              "  </thead>\n",
              "  <tbody>\n",
              "    <tr>\n",
              "      <th>0</th>\n",
              "      <td>1.252352e+10</td>\n",
              "      <td>e6205d4fcb8a485235778ad210ac4d90</td>\n",
              "      <td>PS3 Super Slim 1TB Full Game + 2 Stik getar + ...</td>\n",
              "      <td>spirit elektronik</td>\n",
              "      <td>379815570.0</td>\n",
              "      <td>Elektronik</td>\n",
              "      <td>Konsol Game</td>\n",
              "    </tr>\n",
              "    <tr>\n",
              "      <th>1</th>\n",
              "      <td>1.794108e+10</td>\n",
              "      <td>8563c9fc31b880ed105f91b8d43e6d88</td>\n",
              "      <td>GAMEBOY PVP DUAL ANALOG FULLSET BISA MAIN DI T...</td>\n",
              "      <td>Gaming Console Store</td>\n",
              "      <td>268909000.0</td>\n",
              "      <td>Elektronik</td>\n",
              "      <td>Konsol Game</td>\n",
              "    </tr>\n",
              "    <tr>\n",
              "      <th>2</th>\n",
              "      <td>2.351749e+10</td>\n",
              "      <td>id-11134207-7qul7-leyb85rn449s74</td>\n",
              "      <td>Pulsa Min A10 K1T Remote</td>\n",
              "      <td>GAMOLBERKAH</td>\n",
              "      <td>102394348.0</td>\n",
              "      <td>Elektronik</td>\n",
              "      <td>Konsol Game</td>\n",
              "    </tr>\n",
              "    <tr>\n",
              "      <th>3</th>\n",
              "      <td>7.978948e+09</td>\n",
              "      <td>d6b77df3df58d6a13b3d78eeb303cbb5</td>\n",
              "      <td>DUS PSP-2004/ DUS PSP STREET E1004</td>\n",
              "      <td>GAMES168</td>\n",
              "      <td>28318233.0</td>\n",
              "      <td>Elektronik</td>\n",
              "      <td>Konsol Game</td>\n",
              "    </tr>\n",
              "    <tr>\n",
              "      <th>4</th>\n",
              "      <td>4.653308e+09</td>\n",
              "      <td>f888e78a3845120009602a0b23e65ce0</td>\n",
              "      <td>playstation 2 full game|| hardis external full...</td>\n",
              "      <td>Milkha_shop</td>\n",
              "      <td>293187724.0</td>\n",
              "      <td>Elektronik</td>\n",
              "      <td>Konsol Game</td>\n",
              "    </tr>\n",
              "    <tr>\n",
              "      <th>5</th>\n",
              "      <td>1.412098e+10</td>\n",
              "      <td>58259a47b7f64a0456ab3012afe80c85</td>\n",
              "      <td>kartu karakter animal crossing get Nintendo sw...</td>\n",
              "      <td>Klontong Gaming</td>\n",
              "      <td>134963878.0</td>\n",
              "      <td>Elektronik</td>\n",
              "      <td>Konsol Game</td>\n",
              "    </tr>\n",
              "    <tr>\n",
              "      <th>6</th>\n",
              "      <td>8.680375e+08</td>\n",
              "      <td>87e619fd39c66ca943c3c6dfddc96f97</td>\n",
              "      <td>Garskin STICKER Premium PSP 3000 2000 1000 Fre...</td>\n",
              "      <td>Garskin Parrotskin</td>\n",
              "      <td>53400287.0</td>\n",
              "      <td>Elektronik</td>\n",
              "      <td>Konsol Game</td>\n",
              "    </tr>\n",
              "    <tr>\n",
              "      <th>7</th>\n",
              "      <td>4.557886e+09</td>\n",
              "      <td>6d7a7b2971e19c32e85ab31cc8d1863e</td>\n",
              "      <td>PVP 3 SLIM GAME NITENDO // MAINAN ANAK // KADO...</td>\n",
              "      <td>Terang ku</td>\n",
              "      <td>9026886.0</td>\n",
              "      <td>Elektronik</td>\n",
              "      <td>Konsol Game</td>\n",
              "    </tr>\n",
              "    <tr>\n",
              "      <th>8</th>\n",
              "      <td>3.432470e+09</td>\n",
              "      <td>id-11134201-23030-uwr66k628mov49</td>\n",
              "      <td>PS3 Slim Sony Void CFW 500GB | 1TB | Garansi 1...</td>\n",
              "      <td>Matahari Game</td>\n",
              "      <td>192917696.0</td>\n",
              "      <td>Elektronik</td>\n",
              "      <td>Konsol Game</td>\n",
              "    </tr>\n",
              "    <tr>\n",
              "      <th>9</th>\n",
              "      <td>3.504742e+09</td>\n",
              "      <td>id-11134207-7qul6-lg63etj8ss5327</td>\n",
              "      <td>Nintendo DS Lite FREE Games Grade B</td>\n",
              "      <td>kazokugames</td>\n",
              "      <td>10548912.0</td>\n",
              "      <td>Elektronik</td>\n",
              "      <td>Konsol Game</td>\n",
              "    </tr>\n",
              "  </tbody>\n",
              "</table>\n",
              "</div>\n",
              "    <div class=\"colab-df-buttons\">\n",
              "\n",
              "  <div class=\"colab-df-container\">\n",
              "    <button class=\"colab-df-convert\" onclick=\"convertToInteractive('df-fe53b879-8922-4862-8230-488d1d315bb1')\"\n",
              "            title=\"Convert this dataframe to an interactive table.\"\n",
              "            style=\"display:none;\">\n",
              "\n",
              "  <svg xmlns=\"http://www.w3.org/2000/svg\" height=\"24px\" viewBox=\"0 -960 960 960\">\n",
              "    <path d=\"M120-120v-720h720v720H120Zm60-500h600v-160H180v160Zm220 220h160v-160H400v160Zm0 220h160v-160H400v160ZM180-400h160v-160H180v160Zm440 0h160v-160H620v160ZM180-180h160v-160H180v160Zm440 0h160v-160H620v160Z\"/>\n",
              "  </svg>\n",
              "    </button>\n",
              "\n",
              "  <style>\n",
              "    .colab-df-container {\n",
              "      display:flex;\n",
              "      gap: 12px;\n",
              "    }\n",
              "\n",
              "    .colab-df-convert {\n",
              "      background-color: #E8F0FE;\n",
              "      border: none;\n",
              "      border-radius: 50%;\n",
              "      cursor: pointer;\n",
              "      display: none;\n",
              "      fill: #1967D2;\n",
              "      height: 32px;\n",
              "      padding: 0 0 0 0;\n",
              "      width: 32px;\n",
              "    }\n",
              "\n",
              "    .colab-df-convert:hover {\n",
              "      background-color: #E2EBFA;\n",
              "      box-shadow: 0px 1px 2px rgba(60, 64, 67, 0.3), 0px 1px 3px 1px rgba(60, 64, 67, 0.15);\n",
              "      fill: #174EA6;\n",
              "    }\n",
              "\n",
              "    .colab-df-buttons div {\n",
              "      margin-bottom: 4px;\n",
              "    }\n",
              "\n",
              "    [theme=dark] .colab-df-convert {\n",
              "      background-color: #3B4455;\n",
              "      fill: #D2E3FC;\n",
              "    }\n",
              "\n",
              "    [theme=dark] .colab-df-convert:hover {\n",
              "      background-color: #434B5C;\n",
              "      box-shadow: 0px 1px 3px 1px rgba(0, 0, 0, 0.15);\n",
              "      filter: drop-shadow(0px 1px 2px rgba(0, 0, 0, 0.3));\n",
              "      fill: #FFFFFF;\n",
              "    }\n",
              "  </style>\n",
              "\n",
              "    <script>\n",
              "      const buttonEl =\n",
              "        document.querySelector('#df-fe53b879-8922-4862-8230-488d1d315bb1 button.colab-df-convert');\n",
              "      buttonEl.style.display =\n",
              "        google.colab.kernel.accessAllowed ? 'block' : 'none';\n",
              "\n",
              "      async function convertToInteractive(key) {\n",
              "        const element = document.querySelector('#df-fe53b879-8922-4862-8230-488d1d315bb1');\n",
              "        const dataTable =\n",
              "          await google.colab.kernel.invokeFunction('convertToInteractive',\n",
              "                                                    [key], {});\n",
              "        if (!dataTable) return;\n",
              "\n",
              "        const docLinkHtml = 'Like what you see? Visit the ' +\n",
              "          '<a target=\"_blank\" href=https://colab.research.google.com/notebooks/data_table.ipynb>data table notebook</a>'\n",
              "          + ' to learn more about interactive tables.';\n",
              "        element.innerHTML = '';\n",
              "        dataTable['output_type'] = 'display_data';\n",
              "        await google.colab.output.renderOutput(dataTable, element);\n",
              "        const docLink = document.createElement('div');\n",
              "        docLink.innerHTML = docLinkHtml;\n",
              "        element.appendChild(docLink);\n",
              "      }\n",
              "    </script>\n",
              "  </div>\n",
              "\n",
              "\n",
              "    <div id=\"df-e51074c8-58c9-46f5-8a4c-2cd176fdbf4b\">\n",
              "      <button class=\"colab-df-quickchart\" onclick=\"quickchart('df-e51074c8-58c9-46f5-8a4c-2cd176fdbf4b')\"\n",
              "                title=\"Suggest charts\"\n",
              "                style=\"display:none;\">\n",
              "\n",
              "<svg xmlns=\"http://www.w3.org/2000/svg\" height=\"24px\"viewBox=\"0 0 24 24\"\n",
              "     width=\"24px\">\n",
              "    <g>\n",
              "        <path d=\"M19 3H5c-1.1 0-2 .9-2 2v14c0 1.1.9 2 2 2h14c1.1 0 2-.9 2-2V5c0-1.1-.9-2-2-2zM9 17H7v-7h2v7zm4 0h-2V7h2v10zm4 0h-2v-4h2v4z\"/>\n",
              "    </g>\n",
              "</svg>\n",
              "      </button>\n",
              "\n",
              "<style>\n",
              "  .colab-df-quickchart {\n",
              "      --bg-color: #E8F0FE;\n",
              "      --fill-color: #1967D2;\n",
              "      --hover-bg-color: #E2EBFA;\n",
              "      --hover-fill-color: #174EA6;\n",
              "      --disabled-fill-color: #AAA;\n",
              "      --disabled-bg-color: #DDD;\n",
              "  }\n",
              "\n",
              "  [theme=dark] .colab-df-quickchart {\n",
              "      --bg-color: #3B4455;\n",
              "      --fill-color: #D2E3FC;\n",
              "      --hover-bg-color: #434B5C;\n",
              "      --hover-fill-color: #FFFFFF;\n",
              "      --disabled-bg-color: #3B4455;\n",
              "      --disabled-fill-color: #666;\n",
              "  }\n",
              "\n",
              "  .colab-df-quickchart {\n",
              "    background-color: var(--bg-color);\n",
              "    border: none;\n",
              "    border-radius: 50%;\n",
              "    cursor: pointer;\n",
              "    display: none;\n",
              "    fill: var(--fill-color);\n",
              "    height: 32px;\n",
              "    padding: 0;\n",
              "    width: 32px;\n",
              "  }\n",
              "\n",
              "  .colab-df-quickchart:hover {\n",
              "    background-color: var(--hover-bg-color);\n",
              "    box-shadow: 0 1px 2px rgba(60, 64, 67, 0.3), 0 1px 3px 1px rgba(60, 64, 67, 0.15);\n",
              "    fill: var(--button-hover-fill-color);\n",
              "  }\n",
              "\n",
              "  .colab-df-quickchart-complete:disabled,\n",
              "  .colab-df-quickchart-complete:disabled:hover {\n",
              "    background-color: var(--disabled-bg-color);\n",
              "    fill: var(--disabled-fill-color);\n",
              "    box-shadow: none;\n",
              "  }\n",
              "\n",
              "  .colab-df-spinner {\n",
              "    border: 2px solid var(--fill-color);\n",
              "    border-color: transparent;\n",
              "    border-bottom-color: var(--fill-color);\n",
              "    animation:\n",
              "      spin 1s steps(1) infinite;\n",
              "  }\n",
              "\n",
              "  @keyframes spin {\n",
              "    0% {\n",
              "      border-color: transparent;\n",
              "      border-bottom-color: var(--fill-color);\n",
              "      border-left-color: var(--fill-color);\n",
              "    }\n",
              "    20% {\n",
              "      border-color: transparent;\n",
              "      border-left-color: var(--fill-color);\n",
              "      border-top-color: var(--fill-color);\n",
              "    }\n",
              "    30% {\n",
              "      border-color: transparent;\n",
              "      border-left-color: var(--fill-color);\n",
              "      border-top-color: var(--fill-color);\n",
              "      border-right-color: var(--fill-color);\n",
              "    }\n",
              "    40% {\n",
              "      border-color: transparent;\n",
              "      border-right-color: var(--fill-color);\n",
              "      border-top-color: var(--fill-color);\n",
              "    }\n",
              "    60% {\n",
              "      border-color: transparent;\n",
              "      border-right-color: var(--fill-color);\n",
              "    }\n",
              "    80% {\n",
              "      border-color: transparent;\n",
              "      border-right-color: var(--fill-color);\n",
              "      border-bottom-color: var(--fill-color);\n",
              "    }\n",
              "    90% {\n",
              "      border-color: transparent;\n",
              "      border-bottom-color: var(--fill-color);\n",
              "    }\n",
              "  }\n",
              "</style>\n",
              "\n",
              "      <script>\n",
              "        async function quickchart(key) {\n",
              "          const quickchartButtonEl =\n",
              "            document.querySelector('#' + key + ' button');\n",
              "          quickchartButtonEl.disabled = true;  // To prevent multiple clicks.\n",
              "          quickchartButtonEl.classList.add('colab-df-spinner');\n",
              "          try {\n",
              "            const charts = await google.colab.kernel.invokeFunction(\n",
              "                'suggestCharts', [key], {});\n",
              "          } catch (error) {\n",
              "            console.error('Error during call to suggestCharts:', error);\n",
              "          }\n",
              "          quickchartButtonEl.classList.remove('colab-df-spinner');\n",
              "          quickchartButtonEl.classList.add('colab-df-quickchart-complete');\n",
              "        }\n",
              "        (() => {\n",
              "          let quickchartButtonEl =\n",
              "            document.querySelector('#df-e51074c8-58c9-46f5-8a4c-2cd176fdbf4b button');\n",
              "          quickchartButtonEl.style.display =\n",
              "            google.colab.kernel.accessAllowed ? 'block' : 'none';\n",
              "        })();\n",
              "      </script>\n",
              "    </div>\n",
              "\n",
              "    </div>\n",
              "  </div>\n"
            ],
            "application/vnd.google.colaboratory.intrinsic+json": {
              "type": "dataframe",
              "summary": "{\n  \"name\": \"display(df\",\n  \"rows\": 10,\n  \"fields\": [\n    {\n      \"column\": \"product_id\",\n      \"properties\": {\n        \"dtype\": \"number\",\n        \"std\": 7418989853.3543005,\n        \"min\": 868037479.0,\n        \"max\": 23517487660.0,\n        \"num_unique_values\": 10,\n        \"samples\": [\n          3432470370.0,\n          17941082335.0,\n          14120978646.0\n        ],\n        \"semantic_type\": \"\",\n        \"description\": \"\"\n      }\n    },\n    {\n      \"column\": \"image\",\n      \"properties\": {\n        \"dtype\": \"string\",\n        \"num_unique_values\": 10,\n        \"samples\": [\n          \"id-11134201-23030-uwr66k628mov49\",\n          \"8563c9fc31b880ed105f91b8d43e6d88\",\n          \"58259a47b7f64a0456ab3012afe80c85\"\n        ],\n        \"semantic_type\": \"\",\n        \"description\": \"\"\n      }\n    },\n    {\n      \"column\": \"name\",\n      \"properties\": {\n        \"dtype\": \"string\",\n        \"num_unique_values\": 10,\n        \"samples\": [\n          \"PS3 Slim Sony Void CFW 500GB | 1TB | Garansi 1 Tahun Full Game - Kualitas Grade A\",\n          \"GAMEBOY PVP DUAL ANALOG FULLSET BISA MAIN DI TV GAME CAS\",\n          \"kartu karakter animal crossing get Nintendo switch online membership expansion pack 1 tahun switch online 1 tahun\"\n        ],\n        \"semantic_type\": \"\",\n        \"description\": \"\"\n      }\n    },\n    {\n      \"column\": \"shop_name\",\n      \"properties\": {\n        \"dtype\": \"string\",\n        \"num_unique_values\": 10,\n        \"samples\": [\n          \"Matahari Game\",\n          \"Gaming\\u00a0Console Store\",\n          \"Klontong Gaming\"\n        ],\n        \"semantic_type\": \"\",\n        \"description\": \"\"\n      }\n    },\n    {\n      \"column\": \"shopid\",\n      \"properties\": {\n        \"dtype\": \"number\",\n        \"std\": 131309323.81369013,\n        \"min\": 9026886.0,\n        \"max\": 379815570.0,\n        \"num_unique_values\": 10,\n        \"samples\": [\n          192917696.0,\n          268909000.0,\n          134963878.0\n        ],\n        \"semantic_type\": \"\",\n        \"description\": \"\"\n      }\n    },\n    {\n      \"column\": \"main_category\",\n      \"properties\": {\n        \"dtype\": \"category\",\n        \"num_unique_values\": 1,\n        \"samples\": [\n          \"Elektronik\"\n        ],\n        \"semantic_type\": \"\",\n        \"description\": \"\"\n      }\n    },\n    {\n      \"column\": \"sub_category\",\n      \"properties\": {\n        \"dtype\": \"category\",\n        \"num_unique_values\": 1,\n        \"samples\": [\n          \"Konsol Game\"\n        ],\n        \"semantic_type\": \"\",\n        \"description\": \"\"\n      }\n    }\n  ]\n}"
            }
          },
          "metadata": {}
        }
      ]
    }
  ]
}